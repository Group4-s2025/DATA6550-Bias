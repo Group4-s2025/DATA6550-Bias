{
  "nbformat": 4,
  "nbformat_minor": 0,
  "metadata": {
    "colab": {
      "provenance": [],
      "authorship_tag": "ABX9TyMyIaRn7am+Eh5qcUM+wBus",
      "include_colab_link": true
    },
    "kernelspec": {
      "name": "python3",
      "display_name": "Python 3"
    },
    "language_info": {
      "name": "python"
    }
  },
  "cells": [
    {
      "cell_type": "markdown",
      "metadata": {
        "id": "view-in-github",
        "colab_type": "text"
      },
      "source": [
        "<a href=\"https://colab.research.google.com/github/Group4-s2025/DATA6550-Bias/blob/main/Module_2.ipynb\" target=\"_parent\"><img src=\"https://colab.research.google.com/assets/colab-badge.svg\" alt=\"Open In Colab\"/></a>"
      ]
    },
    {
      "cell_type": "markdown",
      "source": [
        "# Exploring Bias in Datasets\n",
        "## Module 2: Data Bias\n",
        "### By: Savi Alwis, Moses Kipkemboi, Muqtasid Qureshi, Pallavi Suram"
      ],
      "metadata": {
        "id": "b3ahK0K97EEd"
      }
    },
    {
      "cell_type": "code",
      "execution_count": 1,
      "metadata": {
        "id": "b2H_GBon6tkB"
      },
      "outputs": [],
      "source": [
        "import pandas as pd\n",
        "import matplotlib.pyplot as plt\n",
        "import seaborn as sns"
      ]
    },
    {
      "cell_type": "code",
      "source": [
        "# Load dataset\n",
        "url = \"https://raw.githubusercontent.com/Group4-s2025/DATA6550-Bias/refs/heads/main/data/heart_attack_prediction_dataset.csv\"\n",
        "df = pd.read_csv(url)"
      ],
      "metadata": {
        "id": "BWUUCISmVgJt"
      },
      "execution_count": 2,
      "outputs": []
    }
  ]
}